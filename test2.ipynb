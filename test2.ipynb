{
 "metadata": {
  "language_info": {
   "codemirror_mode": {
    "name": "ipython",
    "version": 3
   },
   "file_extension": ".py",
   "mimetype": "text/x-python",
   "name": "python",
   "nbconvert_exporter": "python",
   "pygments_lexer": "ipython3",
   "version": "3.8.2-final"
  },
  "orig_nbformat": 2,
  "kernelspec": {
   "name": "python3",
   "display_name": "Python 3"
  }
 },
 "nbformat": 4,
 "nbformat_minor": 2,
 "cells": [
  {
   "cell_type": "code",
   "execution_count": 45,
   "metadata": {},
   "outputs": [
    {
     "output_type": "stream",
     "name": "stdout",
     "text": [
      "loaded data..\n"
     ]
    }
   ],
   "source": [
    "import pandas as pd\n",
    "df = pd.read_csv(\"customer_data.csv\")\n",
    "print(\"loaded data..\")"
   ]
  },
  {
   "cell_type": "code",
   "execution_count": 46,
   "metadata": {},
   "outputs": [],
   "source": [
    "df1 = df.groupby('customer_id').filter(lambda x: len(x) > 3)"
   ]
  },
  {
   "cell_type": "code",
   "execution_count": 47,
   "metadata": {},
   "outputs": [],
   "source": [
    "df1 = df1.sort_values([\"customer_id\",\"month\"]).groupby(\"customer_id\").tail(4)\n",
    "g2 = df1.sort_values([\"customer_id\",\"month\"]).groupby(\"customer_id\")\n",
    "target = g2.nth(-1)\n",
    "data = g2.nth([-4,-3,-2])"
   ]
  },
  {
   "cell_type": "code",
   "execution_count": 48,
   "metadata": {},
   "outputs": [],
   "source": [
    "d1 = g2.nth(-3)\n",
    "l1 = [False for i in range(len(d1))]\n",
    "t1 = pd.Series(l1)\n",
    "d2 = g2.nth(-2)\n",
    "t2 = g2.nth(-1)[\"churned\"]"
   ]
  },
  {
   "cell_type": "code",
   "execution_count": 49,
   "metadata": {},
   "outputs": [
    {
     "output_type": "execute_result",
     "data": {
      "text/plain": [
       "1377822"
      ]
     },
     "metadata": {},
     "execution_count": 49
    }
   ],
   "source": [
    "d = d1.append(d2)\n",
    "t = t1.append(t2)\n",
    "\n",
    "d = d.drop(columns=[\"month\",\"churned\", \"transaction_value\", \"earned_reward_points\",\"cluster\"])\n",
    "len(d)"
   ]
  },
  {
   "cell_type": "code",
   "execution_count": 50,
   "metadata": {},
   "outputs": [],
   "source": [
    "from sklearn.model_selection import train_test_split\n",
    "from sklearn.naive_bayes import MultinomialNB, GaussianNB\n",
    "from sklearn.metrics import classification_report, confusion_matrix, f1_score, plot_confusion_matrix, accuracy_score\n",
    "from sklearn.ensemble import RandomForestClassifier\n",
    "\n",
    "data_train, data_test, churn_train, churn_test = train_test_split(d, t, test_size=0.2, random_state=1)"
   ]
  },
  {
   "cell_type": "code",
   "execution_count": 51,
   "metadata": {},
   "outputs": [
    {
     "output_type": "stream",
     "name": "stdout",
     "text": [
      "0.35977718505615736\n"
     ]
    },
    {
     "output_type": "execute_result",
     "data": {
      "text/plain": [
       "array([[ 24673, 170856],\n",
       "       [  5567,  74469]], dtype=int64)"
      ]
     },
     "metadata": {},
     "execution_count": 51
    }
   ],
   "source": [
    "cls = MultinomialNB()\n",
    "cls.fit(data_train, churn_train)\n",
    "\n",
    "prediction = cls.predict(data_test)\n",
    "print(accuracy_score(churn_test, prediction))\n",
    "confusion_matrix(churn_test,prediction)"
   ]
  },
  {
   "cell_type": "code",
   "execution_count": 53,
   "metadata": {},
   "outputs": [
    {
     "output_type": "stream",
     "name": "stderr",
     "text": [
      "[Parallel(n_jobs=1)]: Using backend SequentialBackend with 1 concurrent workers.\n",
      "building tree 1 of 10\n",
      "[Parallel(n_jobs=1)]: Done   1 out of   1 | elapsed:    5.3s remaining:    0.0s\n",
      "building tree 2 of 10\n",
      "building tree 3 of 10\n",
      "building tree 4 of 10\n",
      "building tree 5 of 10\n",
      "building tree 6 of 10\n",
      "building tree 7 of 10\n",
      "building tree 8 of 10\n",
      "building tree 9 of 10\n",
      "building tree 10 of 10\n",
      "[Parallel(n_jobs=1)]: Done  10 out of  10 | elapsed:   52.3s finished\n",
      "[Parallel(n_jobs=1)]: Using backend SequentialBackend with 1 concurrent workers.\n",
      "[Parallel(n_jobs=1)]: Done   1 out of   1 | elapsed:    0.1s remaining:    0.0s\n",
      "[Parallel(n_jobs=1)]: Done  10 out of  10 | elapsed:    1.7s finished\n",
      "0.6953749569067189\n"
     ]
    },
    {
     "output_type": "execute_result",
     "data": {
      "text/plain": [
       "array([[170877,  24652],\n",
       "       [ 59292,  20744]], dtype=int64)"
      ]
     },
     "metadata": {},
     "execution_count": 53
    }
   ],
   "source": [
    "rf_model = RandomForestClassifier(n_estimators=10,verbose=2)\n",
    "rf_model.fit(data_train, churn_train)\n",
    "\n",
    "rf_pred = rf_model.predict(data_test)\n",
    "print(accuracy_score(churn_test, rf_pred))\n",
    "confusion_matrix(churn_test,rf_pred)"
   ]
  },
  {
   "cell_type": "code",
   "execution_count": 54,
   "metadata": {},
   "outputs": [
    {
     "output_type": "stream",
     "name": "stdout",
     "text": [
      "0.4438553517318963\n"
     ]
    },
    {
     "output_type": "execute_result",
     "data": {
      "text/plain": [
       "array([[ 51580, 143949],\n",
       "       [  9305,  70731]], dtype=int64)"
      ]
     },
     "metadata": {},
     "execution_count": 54
    }
   ],
   "source": [
    "g_model = GaussianNB()\n",
    "g_model.fit(data_train, churn_train)\n",
    "\n",
    "g_prediction = g_model.predict(data_test)\n",
    "print(accuracy_score(churn_test, g_prediction))\n",
    "confusion_matrix(churn_test,g_prediction)"
   ]
  }
 ]
}